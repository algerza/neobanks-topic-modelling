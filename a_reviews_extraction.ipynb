{
 "cells": [
  {
   "cell_type": "markdown",
   "metadata": {
    "id": "uAzurFW2dZzr"
   },
   "source": [
    "# 1. Install and load the necessary packages\n",
    "All the packages needed from crawling to sentiment analysis can be found on this section"
   ]
  },
  {
   "cell_type": "code",
   "execution_count": 2,
   "metadata": {
    "id": "cVg1TPdxX_rN"
   },
   "outputs": [],
   "source": [
    "import pandas as pd\n",
    "import matplotlib\n",
    "import matplotlib.pyplot as plt\n",
    "import numpy as np\n",
    "import seaborn as sns\n",
    "import json\n",
    "from urllib.request import urlopen\n",
    "from pandas.io.json import json_normalize\n",
    "from google_play_scraper import app,Sort, reviews\n",
    "from app_store_scraper import AppStore\n",
    "from pprint import pprint\n",
    "import urllib3\n",
    "import xmltodict\n",
    "import time\n",
    "from textblob import TextBlob"
   ]
  },
  {
   "cell_type": "markdown",
   "metadata": {
    "id": "cCYY1GPhato5"
   },
   "source": [
    "# 2. Extract data and create dataset\n",
    "In this section we will extract all the related reviews from App Store and Google Play Store. Then we will select the necessary columns and generate the final dataset to perform our analysis"
   ]
  },
  {
   "cell_type": "code",
   "execution_count": null,
   "metadata": {
    "colab": {
     "base_uri": "https://localhost:8080/",
     "height": 1000
    },
    "id": "c-qMBHylxQVY",
    "outputId": "217dd895-cc86-4899-a301-b1dc43f2b8c2",
    "scrolled": true
   },
   "outputs": [],
   "source": [
    "##########################################################################################\n",
    "#########                                                                        #########\n",
    "#########                     EXTRACT REVIEWS FROM APP STORE                     #########\n",
    "#########                                                                        #########\n",
    "##########################################################################################\n",
    "\n",
    "\n",
    "# Let's extract all the reviews from the selected apps present on the App Store (Apple)\n",
    "\n",
    "# Select the app names and unique identifiers in the App Store\n",
    "#   Example for SoundID app: https://apps.apple.com/us/app/soundid-profile-creation/id1490569267 \n",
    "names_ios = ['revolut' ,'n26-mobile-banking', 'monzo-bank','bunq']\n",
    "ids_ios = [932493382,956857223,1052238659,1021178150]\n",
    "\n",
    "## Get all the stores\n",
    "store_list = ['DZ', 'AO', 'AI', 'AG', 'AR', 'AM', 'AU', 'AT', 'AZ', 'BH', 'BY', 'BE', 'BB',\n",
    "'BZ', 'BM', 'BO', 'BW', 'BR', 'VG', 'BN', 'BG', 'CA', 'KY', 'CL', 'CN', 'CO', 'CR',\n",
    " 'HR', 'CY', 'CZ', 'DK', 'DM', 'DO', 'EC', 'EG', 'SV', 'EE', 'FI', 'FR', 'DE',\n",
    "'GH', 'GR', 'GD', 'GT', 'GY', 'HN', 'HK', 'HU', 'IS', 'IN', 'ID', 'IE', 'IL', 'IT',\n",
    "'JM', 'JP', 'JO', 'KZ', 'KE', 'KR', 'KW', 'LV', 'LB', 'LT', 'LU', 'MO', 'MK',\n",
    "'MG', 'MY', 'ML', 'MT', 'MU', 'MX', 'MD', 'MS', 'NP', 'NL', 'NZ', 'NI', 'NE',\n",
    "'NG', 'NO', 'OM', 'PK', 'PA', 'PY', 'PE', 'PH', 'PL', 'PT', 'QA', 'RO', 'RU', 'SA',\n",
    "'SN', 'SG', 'SK', 'SI', 'ZA', 'ES', 'LK', 'KN', 'LC', 'VC', 'SR', 'SE', 'CH',\n",
    "'TW', 'TZ', 'TH', 'BS', 'TT', 'TN', 'TR', 'TC', 'UG', 'GB', 'UA', 'AE', 'UY', 'US',\n",
    " 'UZ', 'VE', 'VN', 'YE']\n",
    "\n",
    "\n",
    "#Scrap data from App Store\n",
    "def crawl_ios(store_list, app_name, app_id):\n",
    "    # check if store has any reviews\n",
    "    valid_stores = []\n",
    "    for i in store_list:\n",
    "        url = f\"https://itunes.apple.com/{i}/rss/customerreviews/id={app_id}/json\"\n",
    "        response = urlopen(url)\n",
    "        data = response.read()\n",
    "        data = json.loads(data)\n",
    "        if data.get('feed').get('entry') == None:\n",
    "            print(i+' has no reviews')\n",
    "        else:\n",
    "            valid_stores.append(i)\n",
    "            print(i + ' has reviews')\n",
    "    df=pd.DataFrame()\n",
    "    name = app_name\n",
    "    for i in valid_stores:\n",
    "        country = i\n",
    "        get_ios = AppStore(country=country, app_name=name)\n",
    "        get_ios.review()\n",
    "        df = df.append(pd.DataFrame(get_ios.reviews))\n",
    "        df = df.assign(App=name)\n",
    "    return df\n",
    "\n",
    "# Extract all the reviews only from the countries where there's at least 1 review and create data frame\n",
    "app_store_reviews = pd.DataFrame()\n",
    "for num,i in enumerate(names_ios):\n",
    "    appname =  names_ios[num]\n",
    "    appid = ids_ios[num]\n",
    "    print(f'Crawling ios appstore reviews for {appname} app ')\n",
    "    \n",
    "    app_store_reviews = app_store_reviews.append(crawl_ios(store_list,appname,appid ))    "
   ]
  },
  {
   "cell_type": "code",
   "execution_count": null,
   "metadata": {
    "id": "HuaCvrJFahl-"
   },
   "outputs": [],
   "source": [
    "# Select the necessary columns and rename them\n",
    "app_store_reviews = app_store_reviews[['App', 'rating', 'review']]\n",
    "app_store_reviews = app_store_reviews.rename(columns={'rating': 'Rating', 'review':'Comment'})"
   ]
  },
  {
   "cell_type": "code",
   "execution_count": null,
   "metadata": {
    "id": "IKsrarD5aE1V"
   },
   "outputs": [],
   "source": [
    "##########################################################################################\n",
    "#########                                                                        #########\n",
    "#########                 EXTRACT REVIEWS FROM PLAY STORE STORE                  #########\n",
    "#########                                                                        #########\n",
    "##########################################################################################\n",
    "\n",
    "# Set up the apps (name and id) we want to get\n",
    "names_playstore = [\n",
    "    'Revolut'\n",
    "    ,\n",
    "    'N26'\n",
    "    ,\n",
    "    'MonzoBank'\n",
    "    ,\n",
    "    'bunq'\n",
    "        ]\n",
    "\n",
    "ids_playstore = [\n",
    "    'com.revolut.revolut'\n",
    "    ,\n",
    "    'de.number26.android'\n",
    "    ,\n",
    "    'co.uk.getmondo'\n",
    "    ,\n",
    "    'com.bunq.android'\n",
    "      ]\n",
    "\n",
    "# Set function to get reviews from the specified apps on Google Play Store\n",
    "def getReviewsPlayStore(ids,appname):\n",
    "    '''\n",
    "        params:\n",
    "         country - ISO-2 country code\n",
    "        returns:\n",
    "         dataframe of all of the reviews for country\n",
    "    '''\n",
    "    df = pd.DataFrame()\n",
    "    count_reviews = 50000\n",
    "    result = reviews(ids,\n",
    "            lang='en',\n",
    "            sort= Sort.NEWEST,\n",
    "            count = count_reviews )\n",
    "    df =  pd.DataFrame(result)\n",
    "    df_play = df[['at','content','replyContent','reviewCreatedVersion','score','thumbsUpCount']]\n",
    "    df_play.columns=['Date','Comment','Replay','Version','Rating','ThumbsUp']\n",
    "    df_play = df_play.assign(App=appname)\n",
    "    \n",
    "    time.sleep(1)\n",
    "    if (df.empty == False):\n",
    "        return df_play\n",
    "\n",
    "# Create dataframe with all the reviews from Google Play Store\n",
    "df_playstore = pd.DataFrame()\n",
    "for num,i in enumerate(ids_playstore):\n",
    "    appname =  names_playstore[num]\n",
    "    df_playstore = df_playstore.append(getReviewsPlayStore(i,appname))\n",
    "    df_playstore['Date']=pd.to_datetime(df_playstore['Date']).apply(lambda x: x.date())\n",
    "df_playstore.head()\n",
    "\n",
    "\n",
    "# Select the necessary columns and rename them\n",
    "play_store_reviews = df_playstore[['App', 'Date', 'Rating', 'Comment']]"
   ]
  },
  {
   "cell_type": "code",
   "execution_count": null,
   "metadata": {},
   "outputs": [],
   "source": [
    "play_store_reviews.to_csv('play_store_reviews.csv')\n",
    "app_store_reviews.to_csv('app_store_reviews.csv')"
   ]
  }
 ],
 "metadata": {
  "colab": {
   "collapsed_sections": [
    "y5dWUxZxa2QK",
    "UWUvhRQfa6_G",
    "zCWRJlKqTnsJ"
   ],
   "name": "222222 of Sound Enhancers Comparison.ipynb",
   "provenance": []
  },
  "kernelspec": {
   "display_name": "Python 3",
   "language": "python",
   "name": "python3"
  },
  "language_info": {
   "codemirror_mode": {
    "name": "ipython",
    "version": 3
   },
   "file_extension": ".py",
   "mimetype": "text/x-python",
   "name": "python",
   "nbconvert_exporter": "python",
   "pygments_lexer": "ipython3",
   "version": "3.8.3"
  }
 },
 "nbformat": 4,
 "nbformat_minor": 1
}
